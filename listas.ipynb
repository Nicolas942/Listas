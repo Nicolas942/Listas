{
  "nbformat": 4,
  "nbformat_minor": 0,
  "metadata": {
    "colab": {
      "provenance": [],
      "authorship_tag": "ABX9TyOwO7liJfrQX9b/B/y5C7Cp",
      "include_colab_link": true
    },
    "kernelspec": {
      "name": "python3",
      "display_name": "Python 3"
    },
    "language_info": {
      "name": "python"
    }
  },
  "cells": [
    {
      "cell_type": "markdown",
      "metadata": {
        "id": "view-in-github",
        "colab_type": "text"
      },
      "source": [
        "<a href=\"https://colab.research.google.com/github/Nicolas942/Listas/blob/main/listas.ipynb\" target=\"_parent\"><img src=\"https://colab.research.google.com/assets/colab-badge.svg\" alt=\"Open In Colab\"/></a>"
      ]
    },
    {
      "cell_type": "markdown",
      "source": [
        "# Listas\n",
        "\n",
        "- Una lista hace referencia a una colección de datos que pueden ser números, cadenas o algún otro tipo.\n",
        "\n",
        "- Son colecciones ordenadas de datos, lo que implica que el orden en el que se encuentran sus elementos es import\n",
        "\n",
        "- El primer elemento ocupa la posición 0, el segundo la posición 1, y así sucesivamente.\n",
        "\n",
        "- Son mutables: una vez creada la lista, esta puede modificarse, es decir, se le pueden agregar o quitar elementos.\n",
        "\n",
        "- En Python están representadas por el tipo ***list*** y, para definirla, se utiliza la siguiente sintaxis: ```nombre_lista = [valor1, valor2, ..., valor]```\n",
        "\n",
        "- Los elementos pueden ser de cualquier tipo, incluso pueden haber tipos diferentes en una misma lista.\n",
        "\n",
        "- También es posible crear usando el construcctor ``` list()```"
      ],
      "metadata": {
        "id": "t8OKTLd5Chsf"
      }
    },
    {
      "cell_type": "code",
      "execution_count": null,
      "metadata": {
        "id": "C-Xwg-OdCaro"
      },
      "outputs": [],
      "source": [
        "# Ejemplo 1\n",
        "\n",
        "#==========================================================\n",
        "# Usando los [] y dando valores para inicializar las listas\n",
        "#==========================================================\n",
        "\n",
        "dias_laborables = [\"Lunes\", \"Martes\", \"Miércoles\", \"Jueves\", \"Viernes\"]\n",
        "print(dias_laborables)\n",
        "\n",
        "colores_primarios = [\"Rojo\", \"Amarillo\", \"Azul\"]\n",
        "print(colores_primarios)\n",
        "\n",
        "precios = [205.30, 107.18, 25, 450, 310.89, 170.23, 340]\n",
        "print(precios)\n",
        "print(type(precios))\n",
        "\n",
        "mezcolanza = [12, 'octubre', 1492, True]\n",
        "\n",
        "lista_vacia =[]\n",
        "\n",
        "#==========================================================\n",
        "# Usando el constructor list()\n",
        "#==========================================================\n",
        "\n",
        "lista_vacia_2 = list()\n",
        "\n",
        "lista_3 = list(range(0,30,2))\n",
        "print(lista_3)\n",
        "\n",
        "lista_4 = list(range(29,0,-2))\n",
        "print(lista_4)\n",
        "\n",
        "lista_5 = list(\"Nicolás Cabrera\")\n",
        "print(lista_5)\n",
        "\n",
        "frase = \"Nicolás Alfonso Cabrera Suárez\"\n",
        "\n",
        "lista_6 = frase.split()\n",
        "print(lista_6)\n"
      ]
    },
    {
      "cell_type": "markdown",
      "source": [
        "## Operaciones\n",
        "\n",
        "### Operador +\n",
        "\n",
        "- Concatenar o pegar los elementos de una lista al final de otra.\n",
        "\n",
        "### operador *\n",
        "\n",
        "- Repetir la secuencia de elementos de la lista tantas veces como lo indique el valor que acompaña al operador.\n",
        "\n"
      ],
      "metadata": {
        "id": "Pws3x4cmQvSo"
      }
    },
    {
      "cell_type": "code",
      "source": [
        "dias_laborables = [\"Lunes\", \"Martes\", \"Miércoles\", \"Jueves\", \"Viernes\"]\n",
        "\n",
        "colores_primarios = [\"Rojo\", \"Amarillo\", \"Azul\"]\n",
        "\n",
        "precios = [205.30, 107.18, 25, 450, 310.89, 170.23, 340]\n",
        "\n",
        "# acceso a los elementos de una lista\n",
        "\n",
        "print(dias_laborables[0])\n",
        "print(dias_laborables[-1])\n",
        "print(dias_laborables[-5])\n",
        "\n",
        "# Operador +\n",
        "\n",
        "fin_de_semana = [\"Sábado\", \"Domingo\"]\n",
        "\n",
        "semana = dias_laborables + fin_de_semana\n",
        "print(semana)\n",
        "\n",
        "# Operador *\n",
        "\n",
        "colores_repetidos = colores_primarios * 3\n",
        "print(colores_repetidos)\n",
        "\n"
      ],
      "metadata": {
        "id": "HInZ3NG6RaPv"
      },
      "execution_count": null,
      "outputs": []
    },
    {
      "cell_type": "markdown",
      "source": [
        "## Funciones asociadas a las listas\n"
      ],
      "metadata": {
        "id": "nWmmeJhrUH5o"
      }
    },
    {
      "cell_type": "code",
      "source": [
        "dias_laborables = [\"Lunes\", \"Martes\", \"Miércoles\", \"Jueves\", \"Viernes\"]\n",
        "\n",
        "colores_primarios = [\"Rojo\", \"Amarillo\", \"Azul\"]\n",
        "\n",
        "precios = [205.30, 107.18, 25, 450, 310.89, 170.23, 340]\n",
        "\n",
        "pares = list(range(0,30,2))\n",
        "\n",
        "impares = list(range(29,0,-2))\n",
        "\n",
        "colores_repetidos = colores_primarios * 3\n",
        "\n",
        "# append(): agrga un elemento al final de la lista\n",
        "\n",
        "dias_laborables.append(\"Sabado\")\n",
        "print(dias_laborables)\n",
        "\n",
        "# len(): total de elementos de la lista\n",
        "\n",
        "print(\"Total de precios\", len(precios))\n",
        "\n",
        "# count(): cuenta el número de veces que aparece un elemento en la lista\n",
        "\n",
        "print(f\"El lunes aparece {dias_laborables.count('Lunes')} veces\")\n",
        "\n",
        "# insert(): agrega en la posición indicada por el indice el nuevo valor, dezplazando los demás elementos a la derecha. Si el indice es mayor al tamaño de la lista lo agrega al final.\n",
        "\n",
        "colores_primarios.insert(2, \"Verde\")\n",
        "print(colores_primarios)\n",
        "\n",
        "# remove(): quita el elemento de la list. Si el elemento no esta lanza el error ValueError.\n",
        "\n",
        "dias_laborables.remove(\"Sabado\")\n",
        "print(dias_laborables)\n",
        "\n",
        "# sort(): ordena la lista de menor a mayor}\n",
        "\n",
        "precios.sort()\n",
        "print(precios)\n",
        "\n",
        "precios.sort(reverse=True)\n",
        "print(precios)\n",
        "\n",
        "# reverse(): invierte el contenido\n",
        "\n",
        "dias_laborables.reverse()\n",
        "print(dias_laborables)\n",
        "\n",
        "# pop(): elimina el elemento correspondiente al indice indicado\n",
        "\n",
        "precios.pop(2)\n",
        "print(precios)\n",
        "\n",
        "# clear():limpia la lista por completo\n",
        "\n",
        "colores_primarios.clear()\n",
        "print(colores_primarios)\n",
        "\n",
        "#del():elimina el valor de determinado indice\n",
        "\n",
        "del precios[0:2]\n",
        "print(precios)\n",
        "\n",
        "\n",
        "\n"
      ],
      "metadata": {
        "colab": {
          "base_uri": "https://localhost:8080/"
        },
        "id": "1HML2EMwUVCM",
        "outputId": "499ef415-0639-44ff-a9e4-28b1f4099ddd"
      },
      "execution_count": 51,
      "outputs": [
        {
          "output_type": "stream",
          "name": "stdout",
          "text": [
            "['Lunes', 'Martes', 'Miércoles', 'Jueves', 'Viernes', 'Sabado']\n",
            "Total de precios 7\n",
            "El lunes aparece 1 veces\n",
            "['Rojo', 'Amarillo', 'Verde', 'Azul']\n",
            "['Lunes', 'Martes', 'Miércoles', 'Jueves', 'Viernes']\n",
            "[25, 107.18, 170.23, 205.3, 310.89, 340, 450]\n",
            "[450, 340, 310.89, 205.3, 170.23, 107.18, 25]\n",
            "['Viernes', 'Jueves', 'Miércoles', 'Martes', 'Lunes']\n",
            "[450, 340, 205.3, 170.23, 107.18, 25]\n",
            "[]\n",
            "[205.3, 170.23, 107.18, 25]\n"
          ]
        }
      ]
    },
    {
      "cell_type": "markdown",
      "source": [
        "## Partición o división de listas (slicing o rebanadas)\n",
        "\n",
        "- Se pueden generar sub-listas a partir de un alista por medio de la particón (división) o slicing.\n",
        "\n",
        "- Para obtener una sub-lista se usa la sintaxis: ```sublista = lista [inicio:fin:n]```"
      ],
      "metadata": {
        "id": "Bf16jaIsf62T"
      }
    },
    {
      "cell_type": "code",
      "source": [
        "from re import sub\n",
        "# se crea una lista de números enteros\n",
        "\n",
        "lista_1 = [1,2,3,4,5,6]\n",
        "\n",
        "#sublista con elementos de la pocsición 0 a la 2 inclisuve\n",
        "\n",
        "sublista_1 = lista_1[0:3]\n",
        "print(sublista_1)\n",
        "\n",
        "#sublista con los elmentos 0 a 3 inclusive\n",
        "\n",
        "sublista_2 = lista_1[:4]\n",
        "print(sublista_2)\n",
        "\n",
        "# sublista con los elementos 3 a la 5 inclusive\n",
        "\n",
        "sublista_3 = lista_1[3:6]\n",
        "print(sublista_3)\n",
        "\n",
        "# sub lista con los elementos hasta el final, con saltos de a 2\n",
        "\n",
        "sublista_4 = lista_1[::2]\n",
        "print(sublista_4)\n"
      ],
      "metadata": {
        "colab": {
          "base_uri": "https://localhost:8080/"
        },
        "id": "SbAkdWM8f6k6",
        "outputId": "bb21f285-39cc-4df2-cb32-82777abe63ec"
      },
      "execution_count": 55,
      "outputs": [
        {
          "output_type": "stream",
          "name": "stdout",
          "text": [
            "[1, 2, 3]\n",
            "[1, 2, 3, 4]\n",
            "[4, 5, 6]\n",
            "[1, 3, 5]\n"
          ]
        }
      ]
    }
  ]
}